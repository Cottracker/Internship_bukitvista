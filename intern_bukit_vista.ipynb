{
  "nbformat": 4,
  "nbformat_minor": 0,
  "metadata": {
    "colab": {
      "provenance": [],
      "authorship_tag": "ABX9TyNntyT5v5jfPcOdvo/EvhVn"
    },
    "kernelspec": {
      "name": "python3",
      "display_name": "Python 3"
    },
    "language_info": {
      "name": "python"
    }
  },
  "cells": [
    {
      "cell_type": "code",
      "source": [
        "import requests\n",
        "import pandas as pd\n",
        "from bs4 import BeautifulSoup\n",
        "pd.set_option('display.max_columns', None)\n",
        "\n",
        "url = 'https://www.airbnb.com.sg/wishlists/v/1606479914?view_only_token=20786307-2eda-4ef8-a808-4a446eef444e'\n",
        "response = requests.get(url)\n",
        "soup = BeautifulSoup(response.text, 'html.parser')"
      ],
      "metadata": {
        "id": "dKF67jtuSlIV"
      },
      "execution_count": 1,
      "outputs": []
    },
    {
      "cell_type": "code",
      "source": [
        "container = soup.findAll(\"div\", attrs= {\"class\":\"s6jcf0g atm_le_p5ox87 atm_le_1od0ugv__oggzyc dir dir-ltr\"})\n",
        "# Iterate through each element in the ResultSet\n",
        "for item in container:\n",
        "    print(item.text) # Access the text of each individual element"
      ],
      "metadata": {
        "id": "NFMEbB0GSlJY"
      },
      "execution_count": 2,
      "outputs": []
    },
    {
      "cell_type": "code",
      "source": [
        "nama_hotel = []\n",
        "for nama in container:\n",
        "  hotel = nama.find(\"div\", attrs= {\"class\":\"g1qv1ctd atm_u80d3j_1li1fea atm_c8_o7aogt atm_g3_8jkm7i c1v0rf5q atm_9s_11p5wf0 atm_cx_4wguik atm_dz_7esijk atm_e0_1lo05zz dir dir-ltr\"})\n",
        "  # Check if hotel is found before printing\n",
        "  if hotel:\n",
        "    print(hotel.text)\n",
        "    nama_hotel.append(hotel.text) # Append hotel name to the list"
      ],
      "metadata": {
        "id": "p_R_xvHjVG2x"
      },
      "execution_count": 4,
      "outputs": []
    }
  ]
}